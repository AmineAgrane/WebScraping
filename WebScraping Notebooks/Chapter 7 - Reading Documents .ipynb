{
 "cells": [
  {
   "cell_type": "markdown",
   "metadata": {},
   "source": [
    "## Text\n",
    "Normally, when you retrieve a page using urlopen, you turn it into a BeautifulSoup object in order to parse the HTML. In this case, you can read the page directly."
   ]
  },
  {
   "cell_type": "code",
   "execution_count": 1,
   "metadata": {
    "scrolled": true
   },
   "outputs": [
    {
     "name": "stdout",
     "output_type": "stream",
     "text": [
      "b'CHAPTER I\\n\\n\"Well, Prince, so Genoa and Lucca are now just family estates of theBuonapartes. But I warn you, if you don\\'t tell me that this means war,if you still try to defend the infamies and horrors perpetrated bythat Antichrist- I really believe he is Antichrist- I will havenothing more to do with you and you are no longer my friend, no longermy \\'faithful slave,\\' as you call yourself! But how do you do? I seeI have frightened you- sit down and tell me all the news.\"\\n\\nIt was in July, 1805, and the speaker was the well-known AnnaPavlovna Scherer, maid of honor and favorite of the Empress MaryaFedorovna. With these words she greeted Prince Vasili Kuragin, a manof high rank and importance, who was the first to arrive at herreception. Anna Pavlovna had had a cough for some days. She was, asshe said, suffering from la grippe; grippe being then a new word inSt. Petersburg, used only by the elite.\\n\\nAll her invitations without exception, written in French, anddelivered by a scarlet-liveried footman that morning, ran as follows:\\n\\n\"If you have nothing better to do, Count [or Prince], and if theprospect of spending an evening with a poor invalid is not tooterrible, I shall be very charmed to see you tonight between 7 and 10-Annette Scherer.\"\\n\\n\"Heavens! what a virulent attack!\" replied the prince, not in theleast disconcerted by this reception. He had just entered, wearingan embroidered court uniform, knee breeches, and shoes, and hadstars on his breast and a serene expression on his flat face. He spokein that refined French in which our grandfathers not only spoke butthought, and with the gentle, patronizing intonation natural to aman of importance who had grown old in society and at court. He wentup to Anna Pavlovna, kissed her hand, presenting to her his bald,scented, and shining head, and complacently seated himself on thesofa.\\n\\n\"First of all, dear friend, tell me how you are. Set your friend\\'smind at rest,\" said he without altering his tone, beneath thepoliteness and affected sympathy of which indifference and evenirony could be discerned.\\n\\n\"Can one be well while suffering morally? Can one be calm in timeslike these if one has any feeling?\" said Anna Pavlovna. \"You arestaying the whole evening, I hope?\"\\n\\n\"And the fete at the English ambassador\\'s? Today is Wednesday. Imust put in an appearance there,\" said the prince. \"My daughter iscoming for me to take me there.\"\\n\\n\"I thought today\\'s fete had been canceled. I confess all thesefestivities and fireworks are becoming wearisome.\"\\n\\n\"If they had known that you wished it, the entertainment wouldhave been put off,\" said the prince, who, like a wound-up clock, byforce of habit said things he did not even wish to be believed.\\n\\n\"Don\\'t tease! Well, and what has been decided about Novosiltsev\\'sdispatch? You know everything.\"\\n\\n\"What can one say about it?\" replied the prince in a cold,listless tone. \"What has been decided? They have decided thatBuonaparte has burnt his boats, and I believe that we are ready toburn ours.\"\\n\\nPrince Vasili always spoke languidly, like an actor repeating astale part. Anna Pavlovna Scherer on the contrary, despite her fortyyears, overflowed with animation and impulsiveness. To be anenthusiast had become her social vocation and, sometimes even when shedid not feel like it, she became enthusiastic in order not todisappoint the expectations of those who knew her. The subdued smilewhich, though it did not suit her faded features, always playedround her lips expressed, as in a spoiled child, a continualconsciousness of her charming defect, which she neither wished, norcould, nor considered it necessary, to correct.\\n\\nIn the midst of a conversation on political matters Anna Pavlovnaburst out:\\n\\n\"Oh, don\\'t speak to me of Austria. Perhaps I don\\'t understandthings, but Austria never has wished, and does not wish, for war.She is betraying us! Russia alone must save Europe. Our gracioussovereign recognizes his high vocation and will be true to it. That isthe one thing I have faith in! Our good and wonderful sovereign has toperform the noblest role on earth, and he is so virtuous and noblethat God will not forsake him. He will fulfill his vocation andcrush the hydra of revolution, which has become more terrible thanever in the person of this murderer and villain! We alone mustavenge the blood of the just one.... Whom, I ask you, can we relyon?... England with her commercial spirit will not and cannotunderstand the Emperor Alexander\\'s loftiness of soul. She hasrefused to evacuate Malta. She wanted to find, and still seeks, somesecret motive in our actions. What answer did Novosiltsev get? None.The English have not understood and cannot understand theself-abnegation of our Emperor who wants nothing for himself, but onlydesires the good of mankind. And what have they promised? Nothing! Andwhat little they have promised they will not perform! Prussia hasalways declared that Buonaparte is invincible, and that all Europeis powerless before him.... And I don\\'t believe a word that Hardenburgsays, or Haugwitz either. This famous Prussian neutrality is just atrap. I have faith only in God and the lofty destiny of our adoredmonarch. He will save Europe!\"\\n\\nShe suddenly paused, smiling at her own impetuosity.\\n\\n\"I think,\" said the prince with a smile, \"that if you had beensent instead of our dear Wintzingerode you would have captured theKing of Prussia\\'s consent by assault. You are so eloquent. Will yougive me a cup of tea?\"\\n\\n\"In a moment. A propos,\" she added, becoming calm again, \"I amexpecting two very interesting men tonight, le Vicomte de Mortemart,who is connected with the Montmorencys through the Rohans, one ofthe best French families. He is one of the genuine emigres, the goodones. And also the Abbe Morio. Do you know that profound thinker? Hehas been received by the Emperor. Had you heard?\"\\n\\n\"I shall be delighted to meet them,\" said the prince. \"But tell me,\"he added with studied carelessness as if it had only just occurredto him, though the question he was about to ask was the chief motiveof his visit, \"is it true that the Dowager Empress wants Baron Funketo be appointed first secretary at Vienna? The baron by all accountsis a poor creature.\"\\n\\nPrince Vasili wished to obtain this post for his son, but otherswere trying through the Dowager Empress Marya Fedorovna to secure itfor the baron.\\n\\nAnna Pavlovna almost closed her eyes to indicate that neither shenor anyone else had a right to criticize what the Empress desired orwas pleased with.\\n\\n\"Baron Funke has been recommended to the Dowager Empress by hersister,\" was all she said, in a dry and mournful tone.\\n\\nAs she named the Empress, Anna Pavlovna\\'s face suddenly assumed anexpression of profound and sincere devotion and respect mingled withsadness, and this occurred every time she mentioned her illustriouspatroness. She added that Her Majesty had deigned to show BaronFunke beaucoup d\\'estime, and again her face clouded over with sadness.\\n\\nThe prince was silent and looked indifferent. But, with thewomanly and courtierlike quickness and tact habitual to her, AnnaPavlovna wished both to rebuke him (for daring to speak he had done ofa man recommended to the Empress) and at the same time to console him,so she said:\\n\\n\"Now about your family. Do you know that since your daughter cameout everyone has been enraptured by her? They say she is amazinglybeautiful.\"\\n\\nThe prince bowed to signify his respect and gratitude.\\n\\n\"I often think,\" she continued after a short pause, drawing nearerto the prince and smiling amiably at him as if to show thatpolitical and social topics were ended and the time had come forintimate conversation- \"I often think how unfairly sometimes thejoys of life are distributed. Why has fate given you two such splendidchildren? I don\\'t speak of Anatole, your youngest. I don\\'t likehim,\" she added in a tone admitting of no rejoinder and raising hereyebrows. \"Two such charming children. And really you appreciatethem less than anyone, and so you don\\'t deserve to have them.\"\\n\\nAnd she smiled her ecstatic smile.\\n\\n\"I can\\'t help it,\" said the prince. \"Lavater would have said Ilack the bump of paternity.\"\\n\\n\"Don\\'t joke; I mean to have a serious talk with you. Do you know Iam dissatisfied with your younger son? Between ourselves\" (and herface assumed its melancholy expression), \"he was mentioned at HerMajesty\\'s and you were pitied....\"\\n\\nThe prince answered nothing, but she looked at him significantly,awaiting a reply. He frowned.\\n\\n\"What would you have me do?\" he said at last. \"You know I did alla father could for their education, and they have both turned outfools. Hippolyte is at least a quiet fool, but Anatole is an activeone. That is the only difference between them.\" He said this smilingin a way more natural and animated than usual, so that the wrinklesround his mouth very clearly revealed something unexpectedly coarseand unpleasant.\\n\\n\"And why are children born to such men as you? If you were not afather there would be nothing I could reproach you with,\" said AnnaPavlovna, looking up pensively.\\n\\n\"I am your faithful slave and to you alone I can confess that mychildren are the bane of my life. It is the cross I have to bear. Thatis how I explain it to myself. It can\\'t be helped!\"\\n\\nHe said no more, but expressed his resignation to cruel fate by agesture. Anna Pavlovna meditated.\\n\\n\"Have you never thought of marrying your prodigal son Anatole?\"she asked. \"They say old maids have a mania for matchmaking, andthough I don\\'t feel that weakness in myself as yet,I know a littleperson who is very unhappy with her father. She is a relation ofyours, Princess Mary Bolkonskaya.\"\\n\\nPrince Vasili did not reply, though, with the quickness of memoryand perception befitting a man of the world, he indicated by amovement of the head that he was considering this information.\\n\\n\"Do you know,\" he said at last, evidently unable to check the sadcurrent of his thoughts, \"that Anatole is costing me forty thousandrubles a year? And,\" he went on after a pause, \"what will it be infive years, if he goes on like this?\" Presently he added: \"That\\'s whatwe fathers have to put up with.... Is this princess of yours rich?\"\\n\\n\"Her father is very rich and stingy. He lives in the country. Heis the well-known Prince Bolkonski who had to retire from the armyunder the late Emperor, and was nicknamed \\'the King of Prussia.\\' He isvery clever but eccentric, and a bore. The poor girl is veryunhappy. She has a brother; I think you know him, he married LiseMeinen lately. He is an aide-de-camp of Kutuzov\\'s and will be heretonight.\"\\n\\n\"Listen, dear Annette,\" said the prince, suddenly taking AnnaPavlovna\\'s hand and for some reason drawing it downwards. \"Arrangethat affair for me and I shall always be your most devoted slave-slafe wigh an f, as a village elder of mine writes in his reports. Sheis rich and of good family and that\\'s all I want.\"\\n\\nAnd with the familiarity and easy grace peculiar to him, he raisedthe maid of honor\\'s hand to his lips, kissed it, and swung it to andfro as he lay back in his armchair, looking in another direction.\\n\\n\"Attendez,\" said Anna Pavlovna, reflecting, \"I\\'ll speak to Lise,young Bolkonski\\'s wife, this very evening, and perhaps the thing canbe arranged. It shall be on your family\\'s behalf that I\\'ll start myapprenticeship as old maid.\"'\n"
     ]
    }
   ],
   "source": [
    "from urllib.request import urlopen\n",
    "\n",
    "textPage = urlopen('http://www.pythonscraping.com/pages/warandpeace/chapter1.txt')\n",
    "print(textPage.read())"
   ]
  },
  {
   "cell_type": "markdown",
   "metadata": {},
   "source": [
    "## PDF\n",
    "\n",
    "PDFMiner3K is one such relatively easy-to-use library. It is flexible, allowing for command-line usage or integration into existing code. Here is a basic implementation that allows you to read arbitrary PDFs to a string,\n",
    "given a local file object:"
   ]
  },
  {
   "cell_type": "code",
   "execution_count": 2,
   "metadata": {},
   "outputs": [],
   "source": [
    "# append the path to our conda virtual env 'WebScraping'\n",
    "#import sys; sys.path.append('C:\\\\ProgramData\\\\Anaconda3\\\\envs\\\\WebScraping\\\\lib\\\\site-packages')\n",
    "import pdfminer"
   ]
  },
  {
   "cell_type": "code",
   "execution_count": 4,
   "metadata": {},
   "outputs": [
    {
     "name": "stdout",
     "output_type": "stream",
     "text": [
      "CHAPTER I\n",
      "\n",
      "\"Well, Prince, so Genoa and Lucca are now just family estates of \n",
      "theBuonapartes. But I warn you, if you don't tell me that this \n",
      "means war,if you still try to defend the infamies and horrors \n",
      "perpetrated bythat Antichrist- I really believe he is Antichrist- I will \n",
      "havenothing more to do with you and you are no longer my friend, \n",
      "no longermy 'faithful slave,' as you call yourself! But how do you \n",
      "do? I seeI have frightened you- sit down and tell me all the news.\"\n",
      "\n",
      "It was in July, 1805, and the speaker was the well-known \n",
      "AnnaPavlovna Scherer, maid of honor and favorite of the \n",
      "Empress MaryaFedorovna. With these words she greeted Prince \n",
      "Vasili Kuragin, a manof high rank and importance, who was the \n",
      "first to arrive at herreception. Anna Pavlovna had had a cough for \n",
      "some days. She was, asshe said, suffering from la grippe; grippe \n",
      "being then a new word inSt. Petersburg, used only by the elite.\n",
      "\n",
      "All her invitations without exception, written in French, \n",
      "anddelivered by a scarlet-liveried footman that morning, ran as \n",
      "follows:\n",
      "\n",
      "\"If you have nothing better to do, Count [or Prince], and if \n",
      "theprospect of spending an evening with a poor invalid is not \n",
      "tooterrible, I shall be very charmed to see you tonight between 7 \n",
      "and 10-Annette Scherer.\"\n",
      "\n",
      "\"Heavens! what a virulent attack!\" replied the prince, not in \n",
      "theleast disconcerted by this reception. He had just entered, \n",
      "wearingan embroidered court uniform, knee breeches, and shoes, \n",
      "and hadstars on his breast and a serene expression on his flat \n",
      "face. He spokein that refined French in which our grandfathers \n",
      "not only spoke butthought, and with the gentle, patronizing \n",
      "intonation natural to aman of importance who had grown old in \n",
      "society and at court. He wentup to Anna Pavlovna, kissed her \n",
      "hand, presenting to her his bald,scented, and shining head, and \n",
      "\n",
      "\f",
      "complacently seated himself on thesofa.\n",
      "\n",
      "\"First of all, dear friend, tell me how you are. Set your friend'smind \n",
      "at rest,\" said he without altering his tone, beneath thepoliteness \n",
      "and affected sympathy of which indifference and evenirony could \n",
      "be discerned.\n",
      "\n",
      "\"Can one be well while suffering morally? Can one be calm in \n",
      "timeslike these if one has any feeling?\" said Anna Pavlovna. \"You \n",
      "arestaying the whole evening, I hope?\"\n",
      "\n",
      "\"And the fete at the English ambassador's? Today is Wednesday. \n",
      "Imust put in an appearance there,\" said the prince. \"My daughter \n",
      "iscoming for me to take me there.\"\n",
      "\n",
      "\"I thought today's fete had been canceled. I confess all \n",
      "thesefestivities and fireworks are becoming wearisome.\"\n",
      "\n",
      "\"If they had known that you wished it, the entertainment \n",
      "wouldhave been put off,\" said the prince, who, like a wound-up \n",
      "clock, byforce of habit said things he did not even wish to be \n",
      "believed.\n",
      "\n",
      "\"Don't tease! Well, and what has been decided about \n",
      "Novosiltsev'sdispatch? You know everything.\"\n",
      "\n",
      "\"What can one say about it?\" replied the prince in a cold,listless \n",
      "tone. \"What has been decided? They have decided \n",
      "thatBuonaparte has burnt his boats, and I believe that we are \n",
      "ready toburn ours.\"\n",
      "\n",
      "Prince Vasili always spoke languidly, like an actor repeating astale \n",
      "part. Anna Pavlovna Scherer on the contrary, despite her \n",
      "fortyyears, overflowed with animation and impulsiveness. To be \n",
      "anenthusiast had become her social vocation and, sometimes \n",
      "even when shedid not feel like it, she became enthusiastic in \n",
      "\n",
      "\f",
      "order not todisappoint the expectations of those who knew her. \n",
      "The subdued smilewhich, though it did not suit her faded features, \n",
      "always playedround her lips expressed, as in a spoiled child, a \n",
      "continualconsciousness of her charming defect, which she neither \n",
      "wished, norcould, nor considered it necessary, to correct.\n",
      "\n",
      "In the midst of a conversation on political matters Anna \n",
      "Pavlovnaburst out:\n",
      "\n",
      "\"Oh, don't speak to me of Austria. Perhaps I don't \n",
      "understandthings, but Austria never has wished, and does not \n",
      "wish, for war.She is betraying us! Russia alone must save \n",
      "Europe. Our gracioussovereign recognizes his high vocation and \n",
      "will be true to it. That isthe one thing I have faith in! Our good and \n",
      "wonderful sovereign has toperform the noblest role on earth, and \n",
      "he is so virtuous and noblethat God will not forsake him. He will \n",
      "fulfill his vocation andcrush the hydra of revolution, which has \n",
      "become more terrible thanever in the person of this murderer and \n",
      "villain! We alone mustavenge the blood of the just one.... Whom, I \n",
      "ask you, can we relyon?... England with her commercial spirit will \n",
      "not and cannotunderstand the Emperor Alexander's loftiness of \n",
      "soul. She hasrefused to evacuate Malta. She wanted to find, and \n",
      "still seeks, somesecret motive in our actions. What answer did \n",
      "Novosiltsev get? None.The English have not understood and \n",
      "cannot understand theself-abnegation of our Emperor who wants \n",
      "nothing for himself, but onlydesires the good of mankind. And \n",
      "what have they promised? Nothing! Andwhat little they have \n",
      "promised they will not perform! Prussia hasalways declared that \n",
      "Buonaparte is invincible, and that all Europeis powerless before \n",
      "him.... And I don't believe a word that Hardenburgsays, or \n",
      "Haugwitz either. This famous Prussian neutrality is just atrap. I \n",
      "have faith only in God and the lofty destiny of our adoredmonarch. \n",
      "He will save Europe!\"\n",
      "\n",
      "She suddenly paused, smiling at her own impetuosity.\n",
      "\n",
      "\f",
      "\"I think,\" said the prince with a smile, \"that if you had beensent \n",
      "instead of our dear Wintzingerode you would have captured \n",
      "theKing of Prussia's consent by assault. You are so eloquent. Will \n",
      "yougive me a cup of tea?\"\n",
      "\n",
      "\"In a moment. A propos,\" she added, becoming calm again, \"I \n",
      "amexpecting two very interesting men tonight, le Vicomte de \n",
      "Mortemart,who is connected with the Montmorencys through the \n",
      "Rohans, one ofthe best French families. He is one of the genuine \n",
      "emigres, the goodones. And also the Abbe Morio. Do you know \n",
      "that profound thinker? Hehas been received by the Emperor. Had \n",
      "you heard?\"\n",
      "\n",
      "\"I shall be delighted to meet them,\" said the prince. \"But tell \n",
      "me,\"he added with studied carelessness as if it had only just \n",
      "occurredto him, though the question he was about to ask was the \n",
      "chief motiveof his visit, \"is it true that the Dowager Empress wants \n",
      "Baron Funketo be appointed first secretary at Vienna? The baron \n",
      "by all accountsis a poor creature.\"\n",
      "\n",
      "Prince Vasili wished to obtain this post for his son, but otherswere \n",
      "trying through the Dowager Empress Marya Fedorovna to secure \n",
      "itfor the baron.\n",
      "\n",
      "Anna Pavlovna almost closed her eyes to indicate that neither \n",
      "shenor anyone else had a right to criticize what the Empress \n",
      "desired orwas pleased with.\n",
      "\n",
      "\"Baron Funke has been recommended to the Dowager Empress \n",
      "by hersister,\" was all she said, in a dry and mournful tone.\n",
      "\n",
      "As she named the Empress, Anna Pavlovna's face suddenly \n",
      "assumed anexpression of profound and sincere devotion and \n",
      "respect mingled withsadness, and this occurred every time she \n",
      "mentioned her illustriouspatroness. She added that Her Majesty \n",
      "had deigned to show BaronFunke beaucoup d'estime, and again \n",
      "\n",
      "\f",
      "her face clouded over with sadness.\n",
      "\n",
      "The prince was silent and looked indifferent. But, with thewomanly \n",
      "and courtierlike quickness and tact habitual to her, AnnaPavlovna \n",
      "wished both to rebuke him (for daring to speak he had done ofa \n",
      "man recommended to the Empress) and at the same time to \n",
      "console him,so she said:\n",
      "\n",
      "\"Now about your family. Do you know that since your daughter \n",
      "cameout everyone has been enraptured by her? They say she is \n",
      "amazinglybeautiful.\"\n",
      "\n",
      "The prince bowed to signify his respect and gratitude.\n",
      "\n",
      "\"I often think,\" she continued after a short pause, drawing \n",
      "nearerto the prince and smiling amiably at him as if to show \n",
      "thatpolitical and social topics were ended and the time had come \n",
      "forintimate conversation- \"I often think how unfairly sometimes \n",
      "thejoys of life are distributed. Why has fate given you two such \n",
      "splendidchildren? I don't speak of Anatole, your youngest. I don't \n",
      "likehim,\" she added in a tone admitting of no rejoinder and raising \n",
      "hereyebrows. \"Two such charming children. And really you \n",
      "appreciatethem less than anyone, and so you don't deserve to \n",
      "have them.\"\n",
      "\n",
      "And she smiled her ecstatic smile.\n",
      "\n",
      "\"I can't help it,\" said the prince. \"Lavater would have said Ilack the \n",
      "bump of paternity.\"\n",
      "\n",
      "\"Don't joke; I mean to have a serious talk with you. Do you know \n",
      "Iam dissatisfied with your younger son? Between ourselves\" (and \n",
      "herface assumed its melancholy expression), \"he was mentioned \n",
      "at HerMajesty's and you were pitied....\"\n",
      "\n",
      "The prince answered nothing, but she looked at him \n",
      "\n",
      "\f",
      "significantly,awaiting a reply. He frowned.\n",
      "\n",
      "\"What would you have me do?\" he said at last. \"You know I did \n",
      "alla father could for their education, and they have both turned \n",
      "outfools. Hippolyte is at least a quiet fool, but Anatole is an \n",
      "activeone. That is the only difference between them.\" He said this \n",
      "smilingin a way more natural and animated than usual, so that the \n",
      "wrinklesround his mouth very clearly revealed something \n",
      "unexpectedly coarseand unpleasant.\n",
      "\n",
      "\"And why are children born to such men as you? If you were not \n",
      "afather there would be nothing I could reproach you with,\" said \n",
      "AnnaPavlovna, looking up pensively.\n",
      "\n",
      "\"I am your faithful slave and to you alone I can confess that \n",
      "mychildren are the bane of my life. It is the cross I have to bear. \n",
      "Thatis how I explain it to myself. It can't be helped!\"\n",
      "\n",
      "He said no more, but expressed his resignation to cruel fate by \n",
      "agesture. Anna Pavlovna meditated.\n",
      "\n",
      "\"Have you never thought of marrying your prodigal son \n",
      "Anatole?\"she asked. \"They say old maids have a mania for \n",
      "matchmaking, andthough I don't feel that weakness in myself as \n",
      "yet,I know a littleperson who is very unhappy with her father. She \n",
      "is a relation ofyours, Princess Mary Bolkonskaya.\"\n",
      "\n",
      "Prince Vasili did not reply, though, with the quickness of \n",
      "memoryand perception befitting a man of the world, he indicated \n",
      "by amovement of the head that he was considering this \n",
      "information.\n",
      "\n",
      "\"Do you know,\" he said at last, evidently unable to check the \n",
      "sadcurrent of his thoughts, \"that Anatole is costing me forty \n",
      "thousandrubles a year? And,\" he went on after a pause, \"what will \n",
      "it be infive years, if he goes on like this?\" Presently he added: \n",
      "\n",
      "\f",
      "\"That's whatwe fathers have to put up with.... Is this princess of \n",
      "yours rich?\"\n",
      "\n",
      "\"Her father is very rich and stingy. He lives in the country. Heis the \n",
      "well-known Prince Bolkonski who had to retire from the \n",
      "armyunder the late Emperor, and was nicknamed 'the King of \n",
      "Prussia.' He isvery clever but eccentric, and a bore. The poor girl \n",
      "is veryunhappy. She has a brother; I think you know him, he \n",
      "married LiseMeinen lately. He is an aide-de-camp of Kutuzov's \n",
      "and will be heretonight.\"\n",
      "\n",
      "\"Listen, dear Annette,\" said the prince, suddenly taking \n",
      "AnnaPavlovna's hand and for some reason drawing it \n",
      "downwards. \"Arrangethat affair for me and I shall always be your \n",
      "most devoted slave-slafe wigh an f, as a village elder of mine \n",
      "writes in his reports. Sheis rich and of good family and that's all I \n",
      "want.\"\n",
      "\n",
      "And with the familiarity and easy grace peculiar to him, he \n",
      "raisedthe maid of honor's hand to his lips, kissed it, and swung it \n",
      "to andfro as he lay back in his armchair, looking in another \n",
      "direction.\n",
      "\n",
      "\"Attendez,\" said Anna Pavlovna, reflecting, \"I'll speak to \n",
      "Lise,young Bolkonski's wife, this very evening, and perhaps the \n",
      "thing canbe arranged. It shall be on your family's behalf that I'll \n",
      "start myapprenticeship as old maid.\"\n",
      "\n",
      "\f",
      "\n"
     ]
    }
   ],
   "source": [
    "from urllib.request import urlopen\n",
    "from pdfminer.pdfinterp import PDFResourceManager, process_pdf\n",
    "from pdfminer.converter import TextConverter\n",
    "from pdfminer.layout import LAParams\n",
    "from io import StringIO\n",
    "from io import open\n",
    "\n",
    "\n",
    "def readPDF(pdfFile):\n",
    "    rsrcmgr = PDFResourceManager()\n",
    "    retstr = StringIO()\n",
    "    laparams = LAParams()\n",
    "    device = TextConverter(rsrcmgr, retstr, laparams=laparams)\n",
    "\n",
    "    process_pdf(rsrcmgr, device, pdfFile)\n",
    "    device.close()\n",
    "\n",
    "    content = retstr.getvalue()\n",
    "    retstr.close()\n",
    "    return content\n",
    "\n",
    "\n",
    "pdfFile = urlopen(\"http://pythonscraping.com/pages/warandpeace/chapter1.pdf\")\n",
    "outputString = readPDF(pdfFile)\n",
    "print(outputString)\n",
    "pdfFile.close()"
   ]
  },
  {
   "cell_type": "code",
   "execution_count": 3,
   "metadata": {},
   "outputs": [
    {
     "data": {
      "text/plain": [
       "'C:\\\\ProgramData\\\\Anaconda3\\\\python.exe'"
      ]
     },
     "execution_count": 3,
     "metadata": {},
     "output_type": "execute_result"
    }
   ],
   "source": [
    "sys.executable"
   ]
  },
  {
   "cell_type": "code",
   "execution_count": 11,
   "metadata": {},
   "outputs": [],
   "source": []
  },
  {
   "cell_type": "code",
   "execution_count": 12,
   "metadata": {},
   "outputs": [
    {
     "data": {
      "text/plain": [
       "['C:\\\\Users\\\\User\\\\PycharmProjects\\\\WebScraping',\n",
       " 'C:\\\\ProgramData\\\\Anaconda3\\\\python37.zip',\n",
       " 'C:\\\\ProgramData\\\\Anaconda3\\\\DLLs',\n",
       " 'C:\\\\ProgramData\\\\Anaconda3\\\\lib',\n",
       " 'C:\\\\ProgramData\\\\Anaconda3',\n",
       " '',\n",
       " 'C:\\\\ProgramData\\\\Anaconda3\\\\lib\\\\site-packages',\n",
       " 'C:\\\\ProgramData\\\\Anaconda3\\\\lib\\\\site-packages\\\\win32',\n",
       " 'C:\\\\ProgramData\\\\Anaconda3\\\\lib\\\\site-packages\\\\win32\\\\lib',\n",
       " 'C:\\\\ProgramData\\\\Anaconda3\\\\lib\\\\site-packages\\\\Pythonwin',\n",
       " 'C:\\\\ProgramData\\\\Anaconda3\\\\lib\\\\site-packages\\\\IPython\\\\extensions',\n",
       " 'C:\\\\Users\\\\User\\\\.ipython',\n",
       " 'C:\\\\ProgramData\\\\Anaconda3\\\\envs\\\\WebScraping\\\\lib\\\\site-packages']"
      ]
     },
     "execution_count": 12,
     "metadata": {},
     "output_type": "execute_result"
    }
   ],
   "source": [
    "sys.path"
   ]
  },
  {
   "cell_type": "code",
   "execution_count": 13,
   "metadata": {},
   "outputs": [],
   "source": [
    "import pdfminer"
   ]
  },
  {
   "cell_type": "code",
   "execution_count": 10,
   "metadata": {},
   "outputs": [
    {
     "name": "stdout",
     "output_type": "stream",
     "text": [
      "Available kernels:\n",
      "  tf2            C:\\Users\\User\\AppData\\Roaming\\jupyter\\kernels\\tf2\n",
      "  webscraping    C:\\Users\\User\\AppData\\Roaming\\jupyter\\kernels\\webscraping\n",
      "  python3        C:\\ProgramData\\Anaconda3\\share\\jupyter\\kernels\\python3\n"
     ]
    }
   ],
   "source": [
    "!jupyter kernelspec list"
   ]
  },
  {
   "cell_type": "code",
   "execution_count": 7,
   "metadata": {},
   "outputs": [
    {
     "ename": "ModuleNotFoundError",
     "evalue": "No module named 'pdfminer'",
     "output_type": "error",
     "traceback": [
      "\u001b[1;31m---------------------------------------------------------------------------\u001b[0m",
      "\u001b[1;31mModuleNotFoundError\u001b[0m                       Traceback (most recent call last)",
      "\u001b[1;32m<ipython-input-7-d5df36078ed1>\u001b[0m in \u001b[0;36m<module>\u001b[1;34m\u001b[0m\n\u001b[0;32m      1\u001b[0m \u001b[1;32mfrom\u001b[0m \u001b[0murllib\u001b[0m\u001b[1;33m.\u001b[0m\u001b[0mrequest\u001b[0m \u001b[1;32mimport\u001b[0m \u001b[0murlopen\u001b[0m\u001b[1;33m\u001b[0m\u001b[1;33m\u001b[0m\u001b[0m\n\u001b[1;32m----> 2\u001b[1;33m \u001b[1;32mfrom\u001b[0m \u001b[0mpdfminer\u001b[0m\u001b[1;33m.\u001b[0m\u001b[0mpdfinterp\u001b[0m \u001b[1;32mimport\u001b[0m \u001b[0mPDFResourceManager\u001b[0m\u001b[1;33m,\u001b[0m \u001b[0mprocess_pdf\u001b[0m\u001b[1;33m\u001b[0m\u001b[1;33m\u001b[0m\u001b[0m\n\u001b[0m\u001b[0;32m      3\u001b[0m \u001b[1;32mfrom\u001b[0m \u001b[0mpdfminer\u001b[0m\u001b[1;33m.\u001b[0m\u001b[0mconverter\u001b[0m \u001b[1;32mimport\u001b[0m \u001b[0mTextConverter\u001b[0m\u001b[1;33m\u001b[0m\u001b[1;33m\u001b[0m\u001b[0m\n\u001b[0;32m      4\u001b[0m \u001b[1;32mfrom\u001b[0m \u001b[0mpdfminer\u001b[0m\u001b[1;33m.\u001b[0m\u001b[0mlayout\u001b[0m \u001b[1;32mimport\u001b[0m \u001b[0mLAParams\u001b[0m\u001b[1;33m\u001b[0m\u001b[1;33m\u001b[0m\u001b[0m\n\u001b[0;32m      5\u001b[0m \u001b[1;32mfrom\u001b[0m \u001b[0mio\u001b[0m \u001b[1;32mimport\u001b[0m \u001b[0mStringIO\u001b[0m\u001b[1;33m\u001b[0m\u001b[1;33m\u001b[0m\u001b[0m\n",
      "\u001b[1;31mModuleNotFoundError\u001b[0m: No module named 'pdfminer'"
     ]
    }
   ],
   "source": [
    "from urllib.request import urlopen\n",
    "from pdfminer.pdfinterp import PDFResourceManager, process_pdf\n",
    "from pdfminer.converter import TextConverter\n",
    "from pdfminer.layout import LAParams\n",
    "from io import StringIO\n",
    "from io import open"
   ]
  },
  {
   "cell_type": "code",
   "execution_count": 8,
   "metadata": {},
   "outputs": [
    {
     "name": "stdout",
     "output_type": "stream",
     "text": [
      "Requirement already satisfied: pdfminer3k in c:\\programdata\\anaconda3\\envs\\webscraping\\lib\\site-packages (1.3.4)\n",
      "Requirement already satisfied: ply in c:\\programdata\\anaconda3\\envs\\webscraping\\lib\\site-packages (from pdfminer3k) (3.11)\n"
     ]
    }
   ],
   "source": [
    "!pip install pdfminer3k"
   ]
  },
  {
   "cell_type": "code",
   "execution_count": 9,
   "metadata": {},
   "outputs": [
    {
     "ename": "ModuleNotFoundError",
     "evalue": "No module named 'pdfminer3k'",
     "output_type": "error",
     "traceback": [
      "\u001b[1;31m---------------------------------------------------------------------------\u001b[0m",
      "\u001b[1;31mModuleNotFoundError\u001b[0m                       Traceback (most recent call last)",
      "\u001b[1;32m<ipython-input-9-edfebdc04b7f>\u001b[0m in \u001b[0;36m<module>\u001b[1;34m\u001b[0m\n\u001b[1;32m----> 1\u001b[1;33m \u001b[1;32mimport\u001b[0m \u001b[0mpdfminer3k\u001b[0m\u001b[1;33m\u001b[0m\u001b[1;33m\u001b[0m\u001b[0m\n\u001b[0m",
      "\u001b[1;31mModuleNotFoundError\u001b[0m: No module named 'pdfminer3k'"
     ]
    }
   ],
   "source": [
    "import pdfminer3k"
   ]
  },
  {
   "cell_type": "code",
   "execution_count": null,
   "metadata": {},
   "outputs": [],
   "source": []
  }
 ],
 "metadata": {
  "kernelspec": {
   "display_name": "WebScraping",
   "language": "python",
   "name": "webscraping"
  },
  "language_info": {
   "codemirror_mode": {
    "name": "ipython",
    "version": 3
   },
   "file_extension": ".py",
   "mimetype": "text/x-python",
   "name": "python",
   "nbconvert_exporter": "python",
   "pygments_lexer": "ipython3",
   "version": "3.9.7"
  },
  "toc": {
   "base_numbering": 1,
   "nav_menu": {},
   "number_sections": true,
   "sideBar": true,
   "skip_h1_title": false,
   "title_cell": "Table of Contents",
   "title_sidebar": "Contents",
   "toc_cell": false,
   "toc_position": {},
   "toc_section_display": true,
   "toc_window_display": false
  }
 },
 "nbformat": 4,
 "nbformat_minor": 4
}
